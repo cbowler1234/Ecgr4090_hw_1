{
  "nbformat": 4,
  "nbformat_minor": 5,
  "metadata": {
    "kernelspec": {
      "display_name": "Python 3",
      "language": "python",
      "name": "python3"
    },
    "language_info": {
      "codemirror_mode": {
        "name": "ipython",
        "version": 3
      },
      "file_extension": ".py",
      "mimetype": "text/x-python",
      "name": "python",
      "nbconvert_exporter": "python",
      "pygments_lexer": "ipython3",
      "version": "3.8.6"
    },
    "colab": {
      "name": "hw2.ipynb",
      "provenance": [],
      "collapsed_sections": [],
      "toc_visible": true,
      "include_colab_link": true
    },
    "accelerator": "GPU"
  },
  "cells": [
    {
      "cell_type": "markdown",
      "metadata": {
        "id": "view-in-github",
        "colab_type": "text"
      },
      "source": [
        "<a href=\"https://colab.research.google.com/github/cbowler1234/Ecgr4090_hw_1/blob/main/Hw2/Hw2.ipynb\" target=\"_parent\"><img src=\"https://colab.research.google.com/assets/colab-badge.svg\" alt=\"Open In Colab\"/></a>"
      ]
    },
    {
      "cell_type": "code",
      "metadata": {
        "id": "interested-lambda",
        "colab": {
          "base_uri": "https://localhost:8080/"
        },
        "outputId": "0a3abb6b-0f94-4c39-c9ea-87ab4abdefad"
      },
      "source": [
        "# TensorFlow and tf.keras\n",
        "import tensorflow as tf\n",
        "\n",
        "# Helper libraries\n",
        "import numpy as np\n",
        "import matplotlib.pyplot as plt\n",
        "from keras.datasets import cifar10\n",
        "\n",
        "from tensorflow.keras import Input, layers\n",
        "from tensorflow.keras.layers import Conv2D\n",
        "from keras.layers.convolutional import Conv2D, MaxPooling2D\n",
        "from keras.models import Sequential\n",
        "from keras.layers import Dense, Activation, Flatten\n",
        "\n",
        "\n",
        "print(tf.__version__)\n"
      ],
      "id": "interested-lambda",
      "execution_count": 134,
      "outputs": [
        {
          "output_type": "stream",
          "text": [
            "2.4.1\n"
          ],
          "name": "stdout"
        }
      ]
    },
    {
      "cell_type": "code",
      "metadata": {
        "id": "C4I2VCrO7T-r"
      },
      "source": [
        "cifar=tf.keras.datasets.cifar10\r\n",
        "\r\n",
        "\r\n",
        "(train_images,train_labels), (test_images, test_labels)=cifar.load_data()\r\n",
        "input_shape=train_images.shape[1:]"
      ],
      "id": "C4I2VCrO7T-r",
      "execution_count": 140,
      "outputs": []
    },
    {
      "cell_type": "code",
      "metadata": {
        "colab": {
          "base_uri": "https://localhost:8080/"
        },
        "id": "EcR8cOBdhJ9A",
        "outputId": "382b5a86-6d4f-4c77-8c6b-f836d3054c98"
      },
      "source": [
        "print(input_shape)"
      ],
      "id": "EcR8cOBdhJ9A",
      "execution_count": 5,
      "outputs": [
        {
          "output_type": "stream",
          "text": [
            "(32, 32, 3)\n"
          ],
          "name": "stdout"
        }
      ]
    },
    {
      "cell_type": "code",
      "metadata": {
        "colab": {
          "base_uri": "https://localhost:8080/"
        },
        "id": "09DVMZIE75nu",
        "outputId": "f3faa47a-ea04-4852-d547-7697595dd820"
      },
      "source": [
        "print(train_images.shape)\r\n",
        "print(train_labels.shape)\r\n",
        "print(test_images.shape)\r\n",
        "print(test_labels.shape)"
      ],
      "id": "09DVMZIE75nu",
      "execution_count": 6,
      "outputs": [
        {
          "output_type": "stream",
          "text": [
            "(50000, 32, 32, 3)\n",
            "(50000, 1)\n",
            "(10000, 32, 32, 3)\n",
            "(10000, 1)\n"
          ],
          "name": "stdout"
        }
      ]
    },
    {
      "cell_type": "code",
      "metadata": {
        "colab": {
          "base_uri": "https://localhost:8080/",
          "height": 298
        },
        "id": "fEeA-ycd8Z2z",
        "outputId": "b8a0ee0b-c173-4cd0-deed-3f36ddc63718"
      },
      "source": [
        "idx=24005\r\n",
        "plt.figure()\r\n",
        "plt.imshow(train_images[idx])\r\n",
        "plt.colorbar()\r\n",
        "plt.title(\"Label= {:}\".format(train_labels[idx]))"
      ],
      "id": "fEeA-ycd8Z2z",
      "execution_count": 7,
      "outputs": [
        {
          "output_type": "execute_result",
          "data": {
            "text/plain": [
              "Text(0.5, 1.0, 'Label= [3]')"
            ]
          },
          "metadata": {
            "tags": []
          },
          "execution_count": 7
        },
        {
          "output_type": "display_data",
          "data": {
            "image/png": "[encoded data removed]",
            "text/plain": [
              "<Figure size 432x288 with 2 Axes>"
            ]
          },
          "metadata": {
            "tags": [],
            "needs_background": "light"
          }
        }
      ]
    },
    {
      "cell_type": "code",
      "metadata": {
        "id": "b-pDyW2s9P_R"
      },
      "source": [
        "model=tf.keras.Sequential([\r\n",
        "  tf.keras.layers.Conv2D(32, kernel_size=(3, 3),strides=(2, 2), activation='relu', input_shape=input_shape, padding='same'),\r\n",
        "  tf.keras.layers.Conv2D(64, kernel_size=(3, 3),strides=(2, 2), activation='relu', padding='same'),\r\n",
        "  tf.keras.layers.MaxPooling2D(pool_size=(2, 2), strides=(2,2)),\r\n",
        "  tf.keras.layers.Flatten(),\r\n",
        "  tf.keras.layers.Dense(1024, activation='relu'),\r\n",
        "  tf.keras.layers.Dense(10) \r\n",
        "])\r\n",
        "model.compile(optimizer='adam',\r\n",
        "              loss=tf.keras.losses.SparseCategoricalCrossentropy(from_logits=True),\r\n",
        "              metrics=['accuracy'])"
      ],
      "id": "b-pDyW2s9P_R",
      "execution_count": 32,
      "outputs": []
    },
    {
      "cell_type": "code",
      "metadata": {
        "colab": {
          "base_uri": "https://localhost:8080/"
        },
        "id": "PE7FmbnDlvOe",
        "outputId": "d614e964-9735-4870-8be9-0d4a68e111e7"
      },
      "source": [
        "model.summary()"
      ],
      "id": "PE7FmbnDlvOe",
      "execution_count": 33,
      "outputs": [
        {
          "output_type": "stream",
          "text": [
            "Model: \"sequential_7\"\n",
            "_________________________________________________________________\n",
            "Layer (type)                 Output Shape              Param #   \n",
            "=================================================================\n",
            "conv2d_21 (Conv2D)           (None, 16, 16, 32)        896       \n",
            "_________________________________________________________________\n",
            "conv2d_22 (Conv2D)           (None, 8, 8, 64)          18496     \n",
            "_________________________________________________________________\n",
            "max_pooling2d_9 (MaxPooling2 (None, 4, 4, 64)          0         \n",
            "_________________________________________________________________\n",
            "flatten_10 (Flatten)         (None, 1024)              0         \n",
            "_________________________________________________________________\n",
            "dense_19 (Dense)             (None, 1024)              1049600   \n",
            "_________________________________________________________________\n",
            "dense_20 (Dense)             (None, 10)                10250     \n",
            "=================================================================\n",
            "Total params: 1,079,242\n",
            "Trainable params: 1,079,242\n",
            "Non-trainable params: 0\n",
            "_________________________________________________________________\n"
          ],
          "name": "stdout"
        }
      ]
    },
    {
      "cell_type": "code",
      "metadata": {
        "colab": {
          "base_uri": "https://localhost:8080/"
        },
        "id": "AkNpYB7Rmh8u",
        "outputId": "d9471f26-7f92-4d47-b665-176fe93feec4"
      },
      "source": [
        "train_hist=model.fit(train_images,train_labels,epochs=50)"
      ],
      "id": "AkNpYB7Rmh8u",
      "execution_count": 34,
      "outputs": [
        {
          "output_type": "stream",
          "text": [
            "Epoch 1/50\n",
            "1563/1563 [==============================] - 4s 2ms/step - loss: 5.2987 - accuracy: 0.3009\n",
            "Epoch 2/50\n",
            "1563/1563 [==============================] - 4s 2ms/step - loss: 1.3158 - accuracy: 0.5342\n",
            "Epoch 3/50\n",
            "1563/1563 [==============================] - 4s 2ms/step - loss: 1.1070 - accuracy: 0.6059\n",
            "Epoch 4/50\n",
            "1563/1563 [==============================] - 4s 2ms/step - loss: 0.9583 - accuracy: 0.6629\n",
            "Epoch 5/50\n",
            "1563/1563 [==============================] - 4s 2ms/step - loss: 0.8264 - accuracy: 0.7082\n",
            "Epoch 6/50\n",
            "1563/1563 [==============================] - 4s 2ms/step - loss: 0.6904 - accuracy: 0.7587\n",
            "Epoch 7/50\n",
            "1563/1563 [==============================] - 4s 2ms/step - loss: 0.5675 - accuracy: 0.8073\n",
            "Epoch 8/50\n",
            "1563/1563 [==============================] - 4s 2ms/step - loss: 0.4538 - accuracy: 0.8447\n",
            "Epoch 9/50\n",
            "1563/1563 [==============================] - 4s 2ms/step - loss: 0.3924 - accuracy: 0.8683\n",
            "Epoch 10/50\n",
            "1563/1563 [==============================] - 4s 2ms/step - loss: 0.3397 - accuracy: 0.8875\n",
            "Epoch 11/50\n",
            "1563/1563 [==============================] - 4s 2ms/step - loss: 0.3113 - accuracy: 0.8984\n",
            "Epoch 12/50\n",
            "1563/1563 [==============================] - 4s 2ms/step - loss: 0.2963 - accuracy: 0.9058\n",
            "Epoch 13/50\n",
            "1563/1563 [==============================] - 4s 2ms/step - loss: 0.2653 - accuracy: 0.9181\n",
            "Epoch 14/50\n",
            "1563/1563 [==============================] - 4s 2ms/step - loss: 0.2564 - accuracy: 0.9218\n",
            "Epoch 15/50\n",
            "1563/1563 [==============================] - 4s 2ms/step - loss: 0.2719 - accuracy: 0.9220\n",
            "Epoch 16/50\n",
            "1563/1563 [==============================] - 4s 2ms/step - loss: 0.2484 - accuracy: 0.9279\n",
            "Epoch 17/50\n",
            "1563/1563 [==============================] - 4s 2ms/step - loss: 0.2520 - accuracy: 0.9286\n",
            "Epoch 18/50\n",
            "1563/1563 [==============================] - 4s 2ms/step - loss: 0.2587 - accuracy: 0.9305\n",
            "Epoch 19/50\n",
            "1563/1563 [==============================] - 4s 2ms/step - loss: 0.2303 - accuracy: 0.9385\n",
            "Epoch 20/50\n",
            "1563/1563 [==============================] - 4s 2ms/step - loss: 0.2234 - accuracy: 0.9418\n",
            "Epoch 21/50\n",
            "1563/1563 [==============================] - 4s 2ms/step - loss: 0.2435 - accuracy: 0.9396\n",
            "Epoch 22/50\n",
            "1563/1563 [==============================] - 4s 2ms/step - loss: 0.2304 - accuracy: 0.9425\n",
            "Epoch 23/50\n",
            "1563/1563 [==============================] - 4s 2ms/step - loss: 0.2172 - accuracy: 0.9461\n",
            "Epoch 24/50\n",
            "1563/1563 [==============================] - 4s 2ms/step - loss: 0.2494 - accuracy: 0.9423\n",
            "Epoch 25/50\n",
            "1563/1563 [==============================] - 4s 2ms/step - loss: 0.2257 - accuracy: 0.9455\n",
            "Epoch 26/50\n",
            "1563/1563 [==============================] - 4s 2ms/step - loss: 0.2455 - accuracy: 0.9455\n",
            "Epoch 27/50\n",
            "1563/1563 [==============================] - 4s 2ms/step - loss: 0.2394 - accuracy: 0.9442\n",
            "Epoch 28/50\n",
            "1563/1563 [==============================] - 4s 2ms/step - loss: 0.2020 - accuracy: 0.9558\n",
            "Epoch 29/50\n",
            "1563/1563 [==============================] - 4s 2ms/step - loss: 0.2525 - accuracy: 0.9453\n",
            "Epoch 30/50\n",
            "1563/1563 [==============================] - 4s 2ms/step - loss: 0.2431 - accuracy: 0.9495\n",
            "Epoch 31/50\n",
            "1563/1563 [==============================] - 4s 2ms/step - loss: 0.1935 - accuracy: 0.9608\n",
            "Epoch 32/50\n",
            "1563/1563 [==============================] - 4s 2ms/step - loss: 0.2430 - accuracy: 0.9522\n",
            "Epoch 33/50\n",
            "1563/1563 [==============================] - 4s 2ms/step - loss: 0.2153 - accuracy: 0.9571\n",
            "Epoch 34/50\n",
            "1563/1563 [==============================] - 4s 2ms/step - loss: 0.2552 - accuracy: 0.9519\n",
            "Epoch 35/50\n",
            "1563/1563 [==============================] - 4s 2ms/step - loss: 0.2400 - accuracy: 0.9566\n",
            "Epoch 36/50\n",
            "1563/1563 [==============================] - 4s 3ms/step - loss: 0.2502 - accuracy: 0.9552\n",
            "Epoch 37/50\n",
            "1563/1563 [==============================] - 4s 2ms/step - loss: 0.2585 - accuracy: 0.9580\n",
            "Epoch 38/50\n",
            "1563/1563 [==============================] - 4s 2ms/step - loss: 0.2392 - accuracy: 0.9582\n",
            "Epoch 39/50\n",
            "1563/1563 [==============================] - 4s 2ms/step - loss: 0.2523 - accuracy: 0.9570\n",
            "Epoch 40/50\n",
            "1563/1563 [==============================] - 4s 2ms/step - loss: 0.2879 - accuracy: 0.9544\n",
            "Epoch 41/50\n",
            "1563/1563 [==============================] - 4s 2ms/step - loss: 0.2454 - accuracy: 0.9620\n",
            "Epoch 42/50\n",
            "1563/1563 [==============================] - 4s 2ms/step - loss: 0.2597 - accuracy: 0.9595\n",
            "Epoch 43/50\n",
            "1563/1563 [==============================] - 4s 2ms/step - loss: 0.2901 - accuracy: 0.9582\n",
            "Epoch 44/50\n",
            "1563/1563 [==============================] - 4s 2ms/step - loss: 0.2427 - accuracy: 0.9624\n",
            "Epoch 45/50\n",
            "1563/1563 [==============================] - 4s 2ms/step - loss: 0.2472 - accuracy: 0.9642\n",
            "Epoch 46/50\n",
            "1563/1563 [==============================] - 4s 2ms/step - loss: 0.2838 - accuracy: 0.9615\n",
            "Epoch 47/50\n",
            "1563/1563 [==============================] - 4s 2ms/step - loss: 0.2765 - accuracy: 0.9633\n",
            "Epoch 48/50\n",
            "1563/1563 [==============================] - 4s 3ms/step - loss: 0.2443 - accuracy: 0.9665\n",
            "Epoch 49/50\n",
            "1563/1563 [==============================] - 4s 3ms/step - loss: 0.2384 - accuracy: 0.9676\n",
            "Epoch 50/50\n",
            "1563/1563 [==============================] - 4s 2ms/step - loss: 0.2526 - accuracy: 0.9656\n"
          ],
          "name": "stdout"
        }
      ]
    },
    {
      "cell_type": "code",
      "metadata": {
        "colab": {
          "base_uri": "https://localhost:8080/"
        },
        "id": "UVv1WzdcnPbE",
        "outputId": "6d715426-4a72-4cdb-fff1-51eadaa4f824"
      },
      "source": [
        "from google.colab import drive\n",
        "drive.mount('/content/drive')"
      ],
      "id": "UVv1WzdcnPbE",
      "execution_count": 27,
      "outputs": [
        {
          "output_type": "stream",
          "text": [
            "Mounted at /content/drive\n"
          ],
          "name": "stdout"
        }
      ]
    },
    {
      "cell_type": "code",
      "metadata": {
        "colab": {
          "base_uri": "https://localhost:8080/"
        },
        "id": "uM_8p8paoKPp",
        "outputId": "66ea2290-1cb9-4f38-a042-2eed752735b2"
      },
      "source": [
        "train_hist.history"
      ],
      "id": "uM_8p8paoKPp",
      "execution_count": 142,
      "outputs": [
        {
          "output_type": "execute_result",
          "data": {
            "text/plain": [
              "{'accuracy': [0.38868001103401184,\n",
              "  0.5431200265884399,\n",
              "  0.6006799936294556,\n",
              "  0.6521599888801575,\n",
              "  0.696340024471283,\n",
              "  0.7426999807357788,\n",
              "  0.7892199754714966,\n",
              "  0.8273000121116638,\n",
              "  0.8503599762916565,\n",
              "  0.869979977607727,\n",
              "  0.8834999799728394,\n",
              "  0.8946200013160706,\n",
              "  0.9052799940109253,\n",
              "  0.914359986782074,\n",
              "  0.9111199975013733,\n",
              "  0.9188600182533264,\n",
              "  0.9190400242805481,\n",
              "  0.9269000291824341,\n",
              "  0.9296600222587585,\n",
              "  0.9354599714279175,\n",
              "  0.9326199889183044,\n",
              "  0.9307199716567993,\n",
              "  0.9398599863052368,\n",
              "  0.9379600286483765,\n",
              "  0.9396200180053711,\n",
              "  0.942520022392273,\n",
              "  0.9398599863052368,\n",
              "  0.9483799934387207,\n",
              "  0.9408400058746338,\n",
              "  0.9468600153923035,\n",
              "  0.9505400061607361,\n",
              "  0.9492999911308289,\n",
              "  0.9480800032615662,\n",
              "  0.9506999850273132,\n",
              "  0.9507200121879578,\n",
              "  0.9494600296020508,\n",
              "  0.9557399749755859,\n",
              "  0.9521600008010864,\n",
              "  0.9551200270652771,\n",
              "  0.9524999856948853,\n",
              "  0.9588599801063538,\n",
              "  0.9558799862861633,\n",
              "  0.9579799771308899,\n",
              "  0.9569000005722046,\n",
              "  0.9610599875450134,\n",
              "  0.9564999938011169,\n",
              "  0.9611799716949463,\n",
              "  0.962660014629364,\n",
              "  0.9593999981880188,\n",
              "  0.961139976978302],\n",
              " 'loss': [2.254843235015869,\n",
              "  1.2974046468734741,\n",
              "  1.1266179084777832,\n",
              "  0.9941244721412659,\n",
              "  0.866125762462616,\n",
              "  0.7428054809570312,\n",
              "  0.6145349144935608,\n",
              "  0.50904780626297,\n",
              "  0.4463646411895752,\n",
              "  0.3971429169178009,\n",
              "  0.3705681562423706,\n",
              "  0.3390498161315918,\n",
              "  0.31446436047554016,\n",
              "  0.28627872467041016,\n",
              "  0.31838831305503845,\n",
              "  0.28728917241096497,\n",
              "  0.29837897419929504,\n",
              "  0.2751838266849518,\n",
              "  0.2747710049152374,\n",
              "  0.25211697816848755,\n",
              "  0.27303603291511536,\n",
              "  0.2904272973537445,\n",
              "  0.2496212124824524,\n",
              "  0.2676475942134857,\n",
              "  0.267862468957901,\n",
              "  0.2639560103416443,\n",
              "  0.27845317125320435,\n",
              "  0.23844727873802185,\n",
              "  0.2861277461051941,\n",
              "  0.2685949504375458,\n",
              "  0.2527281641960144,\n",
              "  0.26278483867645264,\n",
              "  0.2816965878009796,\n",
              "  0.2664693295955658,\n",
              "  0.2660868465900421,\n",
              "  0.2967897057533264,\n",
              "  0.26047834753990173,\n",
              "  0.2727673649787903,\n",
              "  0.2784404754638672,\n",
              "  0.3036501407623291,\n",
              "  0.2603084444999695,\n",
              "  0.29024532437324524,\n",
              "  0.2831348776817322,\n",
              "  0.3018157482147217,\n",
              "  0.2805424928665161,\n",
              "  0.3257018029689789,\n",
              "  0.298808217048645,\n",
              "  0.28716686367988586,\n",
              "  0.3144761025905609,\n",
              "  0.29906198382377625]}"
            ]
          },
          "metadata": {
            "tags": []
          },
          "execution_count": 142
        }
      ]
    },
    {
      "cell_type": "markdown",
      "metadata": {
        "id": "cBb1AtLrEYlW"
      },
      "source": [
        "The Final Training Accuracy is approximatly 96 percent"
      ],
      "id": "cBb1AtLrEYlW"
    },
    {
      "cell_type": "code",
      "metadata": {
        "colab": {
          "base_uri": "https://localhost:8080/"
        },
        "id": "W4bgJuP1o7cL",
        "outputId": "6ef2bff7-6049-4abd-9c03-40c4f4286f41"
      },
      "source": [
        "test_loss,test_acc=model.evaluate(test_images,test_labels)"
      ],
      "id": "W4bgJuP1o7cL",
      "execution_count": 38,
      "outputs": [
        {
          "output_type": "stream",
          "text": [
            "313/313 [==============================] - 1s 2ms/step - loss: 10.2633 - accuracy: 0.5636\n"
          ],
          "name": "stdout"
        }
      ]
    },
    {
      "cell_type": "markdown",
      "metadata": {
        "id": "63l6b0EOERC2"
      },
      "source": [
        "The Test Accuracy is Approxiamatly 56 percent"
      ],
      "id": "63l6b0EOERC2"
    },
    {
      "cell_type": "code",
      "metadata": {
        "id": "lODCKvTWqNkn"
      },
      "source": [
        "from PIL import Image\r\n",
        "\r\n",
        "\r\n",
        "Duck=Image.open(\"/content/drive/MyDrive/Hw0 Images/Duckresize.jpg\")\r\n",
        "\r\n"
      ],
      "id": "lODCKvTWqNkn",
      "execution_count": 69,
      "outputs": []
    },
    {
      "cell_type": "code",
      "metadata": {
        "colab": {
          "base_uri": "https://localhost:8080/",
          "height": 298
        },
        "id": "fZ4Lx82Mq1mR",
        "outputId": "b5da80f7-1b91-46cf-eb3e-650c41761bcf"
      },
      "source": [
        "plt.figure()\r\n",
        "plt.imshow(Duck)\r\n",
        "plt.colorbar()\r\n",
        "plt.title(\"Label= {:}\".format(train_labels[idx]))"
      ],
      "id": "fZ4Lx82Mq1mR",
      "execution_count": 70,
      "outputs": [
        {
          "output_type": "execute_result",
          "data": {
            "text/plain": [
              "Text(0.5, 1.0, 'Label= [3]')"
            ]
          },
          "metadata": {
            "tags": []
          },
          "execution_count": 70
        },
        {
          "output_type": "display_data",
          "data": {
            "image/png": "[encoded data removed]",
            "text/plain": [
              "<Figure size 432x288 with 2 Axes>"
            ]
          },
          "metadata": {
            "tags": [],
            "needs_background": "light"
          }
        }
      ]
    },
    {
      "cell_type": "code",
      "metadata": {
        "id": "BYuy-3dSuZks"
      },
      "source": [
        "Duck = np.asarray(Duck)\r\n"
      ],
      "id": "BYuy-3dSuZks",
      "execution_count": 72,
      "outputs": []
    },
    {
      "cell_type": "code",
      "metadata": {
        "colab": {
          "base_uri": "https://localhost:8080/"
        },
        "id": "PRmaJYEPyyoS",
        "outputId": "89297ff4-ea39-4c7d-dbdb-34e2e677b465"
      },
      "source": [
        "Duck.shape"
      ],
      "id": "PRmaJYEPyyoS",
      "execution_count": 74,
      "outputs": [
        {
          "output_type": "execute_result",
          "data": {
            "text/plain": [
              "(32, 32, 3)"
            ]
          },
          "metadata": {
            "tags": []
          },
          "execution_count": 74
        }
      ]
    },
    {
      "cell_type": "code",
      "metadata": {
        "id": "MqYHpDmX0YCK"
      },
      "source": [
        "Duck = Duck.reshape(1, 32, 32, 3)"
      ],
      "id": "MqYHpDmX0YCK",
      "execution_count": 76,
      "outputs": []
    },
    {
      "cell_type": "code",
      "metadata": {
        "colab": {
          "base_uri": "https://localhost:8080/"
        },
        "id": "2Ms8VFuS0dx-",
        "outputId": "eede9218-d5c1-4908-e8de-79116786c856"
      },
      "source": [
        "Duck.shape"
      ],
      "id": "2Ms8VFuS0dx-",
      "execution_count": 77,
      "outputs": [
        {
          "output_type": "execute_result",
          "data": {
            "text/plain": [
              "(1, 32, 32, 3)"
            ]
          },
          "metadata": {
            "tags": []
          },
          "execution_count": 77
        }
      ]
    },
    {
      "cell_type": "code",
      "metadata": {
        "id": "3yt0WRTGuhOg"
      },
      "source": [
        "out_Duck=model.predict(Duck)"
      ],
      "id": "3yt0WRTGuhOg",
      "execution_count": 104,
      "outputs": []
    },
    {
      "cell_type": "code",
      "metadata": {
        "colab": {
          "base_uri": "https://localhost:8080/"
        },
        "id": "qSTdfmGt9QMs",
        "outputId": "8e82183d-a3f2-44f1-fb8f-23ab20b7475a"
      },
      "source": [
        "max_value = np.max(out_Duck)\r\n",
        "\r\n",
        "max_index = np.where(out_Duck==max_value)\r\n",
        "print(max_index)\r\n",
        "print(max_value)"
      ],
      "id": "qSTdfmGt9QMs",
      "execution_count": 117,
      "outputs": [
        {
          "output_type": "stream",
          "text": [
            "(array([0]), array([2]))\n",
            "11.704337\n"
          ],
          "name": "stdout"
        }
      ]
    },
    {
      "cell_type": "code",
      "metadata": {
        "colab": {
          "base_uri": "https://localhost:8080/"
        },
        "id": "I2o6gkPJ1pvr",
        "outputId": "96fe9830-e171-4495-ea2b-c9869f5794e6"
      },
      "source": [
        "print(out_Duck)"
      ],
      "id": "I2o6gkPJ1pvr",
      "execution_count": 116,
      "outputs": [
        {
          "output_type": "stream",
          "text": [
            "[[ -1.233511   -13.042733    11.704337    -0.47379363   6.420125\n",
            "   -9.852236    -0.3085348  -13.13933    -16.714643   -22.804462  ]]\n"
          ],
          "name": "stdout"
        }
      ]
    },
    {
      "cell_type": "markdown",
      "metadata": {
        "id": "iSikm2BI8TJu"
      },
      "source": [
        "I am not sure how to import label_names but According to the website a bird should be the third index and the max value is the third index so the Network did properly identify the image"
      ],
      "id": "iSikm2BI8TJu"
    },
    {
      "cell_type": "code",
      "metadata": {
        "id": "eVFqgVpx4st5"
      },
      "source": [
        "model_2=tf.keras.Sequential([\r\n",
        "  tf.keras.layers.DepthwiseConv2D(kernel_size=(3, 3),strides=(2, 2), input_shape=input_shape, padding='same'),\r\n",
        "  tf.keras.layers.Conv2D(32, kernel_size=(1, 1),strides=(1, 1), activation='relu',),\r\n",
        "  tf.keras.layers.DepthwiseConv2D(kernel_size=(3, 3),strides=(2, 2), input_shape=input_shape, padding='same'),\r\n",
        "  tf.keras.layers.Conv2D(64, kernel_size=(1, 1),strides=(1, 1), activation='relu',),\r\n",
        "  tf.keras.layers.MaxPooling2D(pool_size=(2, 2), strides=(2,2)),\r\n",
        "  tf.keras.layers.Flatten(),\r\n",
        "  tf.keras.layers.Dense(1024, activation='relu'),\r\n",
        "  tf.keras.layers.Dense(10) \r\n",
        "])\r\n",
        "model_2.compile(optimizer='adam',\r\n",
        "              loss=tf.keras.losses.SparseCategoricalCrossentropy(from_logits=True),\r\n",
        "              metrics=['accuracy'])"
      ],
      "id": "eVFqgVpx4st5",
      "execution_count": 98,
      "outputs": []
    },
    {
      "cell_type": "code",
      "metadata": {
        "colab": {
          "base_uri": "https://localhost:8080/"
        },
        "id": "itsv_xCu79dc",
        "outputId": "9a1b55ee-3f72-44c5-834d-e7e972465945"
      },
      "source": [
        "model_2.summary()"
      ],
      "id": "itsv_xCu79dc",
      "execution_count": 100,
      "outputs": [
        {
          "output_type": "stream",
          "text": [
            "Model: \"sequential_11\"\n",
            "_________________________________________________________________\n",
            "Layer (type)                 Output Shape              Param #   \n",
            "=================================================================\n",
            "depthwise_conv2d_3 (Depthwis (None, 16, 16, 3)         30        \n",
            "_________________________________________________________________\n",
            "conv2d_34 (Conv2D)           (None, 16, 16, 32)        128       \n",
            "_________________________________________________________________\n",
            "depthwise_conv2d_4 (Depthwis (None, 8, 8, 32)          320       \n",
            "_________________________________________________________________\n",
            "conv2d_35 (Conv2D)           (None, 8, 8, 64)          2112      \n",
            "_________________________________________________________________\n",
            "max_pooling2d_13 (MaxPooling (None, 4, 4, 64)          0         \n",
            "_________________________________________________________________\n",
            "flatten_14 (Flatten)         (None, 1024)              0         \n",
            "_________________________________________________________________\n",
            "dense_27 (Dense)             (None, 1024)              1049600   \n",
            "_________________________________________________________________\n",
            "dense_28 (Dense)             (None, 10)                10250     \n",
            "=================================================================\n",
            "Total params: 1,062,440\n",
            "Trainable params: 1,062,440\n",
            "Non-trainable params: 0\n",
            "_________________________________________________________________\n"
          ],
          "name": "stdout"
        }
      ]
    }
  ]
}